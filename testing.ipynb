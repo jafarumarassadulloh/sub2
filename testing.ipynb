{
 "cells": [
  {
   "cell_type": "code",
   "execution_count": 13,
   "metadata": {},
   "outputs": [],
   "source": [
    "import pandas as pd\n",
    "import requests\n",
    "import json\n",
    "import base64\n",
    "import tensorflow as tf"
   ]
  },
  {
   "cell_type": "code",
   "execution_count": 14,
   "metadata": {},
   "outputs": [
    {
     "data": {
      "text/plain": [
       "{'Gender': 'Male',\n",
       " 'Ever_Married': 'No',\n",
       " 'Age': 25,\n",
       " 'Graduated': 'Yes',\n",
       " 'Profession': 'Entertainment',\n",
       " 'Work_Experience': 0.0,\n",
       " 'Spending_Score': 'Low',\n",
       " 'Family_Size': 2.0}"
      ]
     },
     "execution_count": 14,
     "metadata": {},
     "output_type": "execute_result"
    }
   ],
   "source": [
    "data = pd.read_csv('data/data.csv')\n",
    "inputs = data.iloc[53, :8].to_dict()\n",
    "inputs"
   ]
  },
  {
   "cell_type": "code",
   "execution_count": 15,
   "metadata": {},
   "outputs": [
    {
     "data": {
      "text/plain": [
       "Gender                      Male\n",
       "Ever_Married                  No\n",
       "Age                           25\n",
       "Graduated                    Yes\n",
       "Profession         Entertainment\n",
       "Work_Experience              0.0\n",
       "Spending_Score               Low\n",
       "Family_Size                  2.0\n",
       "Segmentation                   1\n",
       "Name: 53, dtype: object"
      ]
     },
     "execution_count": 15,
     "metadata": {},
     "output_type": "execute_result"
    }
   ],
   "source": [
    "data.iloc[53, :9]"
   ]
  },
  {
   "cell_type": "code",
   "execution_count": 16,
   "metadata": {},
   "outputs": [
    {
     "name": "stdout",
     "output_type": "stream",
     "text": [
      "1\n"
     ]
    }
   ],
   "source": [
    "def prepare_json(inputs: dict):\n",
    "    feature_spec = dict()\n",
    "\n",
    "    for keys, values in inputs.items():\n",
    "        if isinstance(values, float):\n",
    "            feature_spec[keys] = tf.train.Feature(float_list=tf.train.FloatList(value=[values]))\n",
    "        elif isinstance(values, int):\n",
    "            feature_spec[keys] = tf.train.Feature(int64_list=tf.train.Int64List(value=[values]))\n",
    "        elif isinstance(values, str):\n",
    "            feature_spec[keys] = tf.train.Feature(bytes_list=tf.train.BytesList(value=[values.encode()]))\n",
    "\n",
    "    example = tf.train.Example(\n",
    "        features=tf.train.Features(feature=feature_spec)\n",
    "    ).SerializeToString()\n",
    "\n",
    "    result = [\n",
    "        {\n",
    "            \"examples\": {\n",
    "                \"b64\": base64.b64encode(example).decode()\n",
    "            }\n",
    "        }\n",
    "    ]\n",
    "\n",
    "    return json.dumps({\n",
    "        \"signature_name\": \"serving_default\",\n",
    "        \"instances\": result,\n",
    "    })\n",
    "\n",
    "json_data = prepare_json(inputs)\n",
    "\n",
    "endpoint = \"https://sub2-production.up.railway.app/v1/models/customer-model:predict\"\n",
    "response = requests.post(endpoint, data=json_data)\n",
    "\n",
    "prediction = response.json().get(\"predictions\")\n",
    "if prediction:\n",
    "    prediction_value = prediction[0][0]\n",
    "    result = \"0\" if prediction_value < 0.5 else \"1\"\n",
    "else:\n",
    "    result = \"Error: No predictions found in response.\"\n",
    "\n",
    "print(result)"
   ]
  }
 ],
 "metadata": {
  "kernelspec": {
   "display_name": "base",
   "language": "python",
   "name": "python3"
  },
  "language_info": {
   "codemirror_mode": {
    "name": "ipython",
    "version": 3
   },
   "file_extension": ".py",
   "mimetype": "text/x-python",
   "name": "python",
   "nbconvert_exporter": "python",
   "pygments_lexer": "ipython3",
   "version": "3.9.15"
  },
  "orig_nbformat": 4
 },
 "nbformat": 4,
 "nbformat_minor": 2
}
